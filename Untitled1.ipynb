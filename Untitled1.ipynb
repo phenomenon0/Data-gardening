{
 "cells": [
  {
   "cell_type": "code",
   "execution_count": 1,
   "id": "ccb8f560-9fa9-4a90-9a56-94b0e86af05e",
   "metadata": {
    "scrolled": true
   },
   "outputs": [
    {
     "data": {
      "text/html": [
       "<pre style=\"white-space:pre;overflow-x:auto;line-height:normal;font-family:Menlo,'DejaVu Sans Mono',consolas,'Courier New',monospace\"><span style=\"color: #7fbfbf; text-decoration-color: #7fbfbf\">[01/08/24 23:28:37] </span><span style=\"color: #000080; text-decoration-color: #000080\">INFO    </span> No custom team name replacements found. You can configure these in       <a href=\"file://c:\\Users\\femi\\AppData\\Local\\Programs\\Python\\Python312\\Lib\\site-packages\\soccerdata\\_config.py\" target=\"_blank\"><span style=\"color: #7f7f7f; text-decoration-color: #7f7f7f\">_config.py</span></a><span style=\"color: #7f7f7f; text-decoration-color: #7f7f7f\">:</span><a href=\"file://c:\\Users\\femi\\AppData\\Local\\Programs\\Python\\Python312\\Lib\\site-packages\\soccerdata\\_config.py#87\" target=\"_blank\"><span style=\"color: #7f7f7f; text-decoration-color: #7f7f7f\">87</span></a>\n",
       "<span style=\"color: #7fbfbf; text-decoration-color: #7fbfbf\">                    </span>         C:\\Users\\femi\\soccerdata\\config\\teamname_replacements.json.              <span style=\"color: #7f7f7f; text-decoration-color: #7f7f7f\">             </span>\n",
       "</pre>\n"
      ],
      "text/plain": [
       "\u001b[2;36m[01/08/24 23:28:37]\u001b[0m\u001b[2;36m \u001b[0m\u001b[34mINFO    \u001b[0m No custom team name replacements found. You can configure these in       \u001b]8;id=246171;file://c:\\Users\\femi\\AppData\\Local\\Programs\\Python\\Python312\\Lib\\site-packages\\soccerdata\\_config.py\u001b\\\u001b[2m_config.py\u001b[0m\u001b]8;;\u001b\\\u001b[2m:\u001b[0m\u001b]8;id=841751;file://c:\\Users\\femi\\AppData\\Local\\Programs\\Python\\Python312\\Lib\\site-packages\\soccerdata\\_config.py#87\u001b\\\u001b[2m87\u001b[0m\u001b]8;;\u001b\\\n",
       "\u001b[2;36m                    \u001b[0m         C:\\Users\\femi\\soccerdata\\config\\teamname_replacements.json.              \u001b[2m             \u001b[0m\n"
      ]
     },
     "metadata": {},
     "output_type": "display_data"
    },
    {
     "data": {
      "text/html": [
       "<pre style=\"white-space:pre;overflow-x:auto;line-height:normal;font-family:Menlo,'DejaVu Sans Mono',consolas,'Courier New',monospace\"><span style=\"color: #7fbfbf; text-decoration-color: #7fbfbf\">                    </span><span style=\"color: #000080; text-decoration-color: #000080\">INFO    </span> No custom league dict found. You can configure additional leagues in    <a href=\"file://c:\\Users\\femi\\AppData\\Local\\Programs\\Python\\Python312\\Lib\\site-packages\\soccerdata\\_config.py\" target=\"_blank\"><span style=\"color: #7f7f7f; text-decoration-color: #7f7f7f\">_config.py</span></a><span style=\"color: #7f7f7f; text-decoration-color: #7f7f7f\">:</span><a href=\"file://c:\\Users\\femi\\AppData\\Local\\Programs\\Python\\Python312\\Lib\\site-packages\\soccerdata\\_config.py#165\" target=\"_blank\"><span style=\"color: #7f7f7f; text-decoration-color: #7f7f7f\">165</span></a>\n",
       "<span style=\"color: #7fbfbf; text-decoration-color: #7fbfbf\">                    </span>         C:\\Users\\femi\\soccerdata\\config\\league_dict.json.                       <span style=\"color: #7f7f7f; text-decoration-color: #7f7f7f\">              </span>\n",
       "</pre>\n"
      ],
      "text/plain": [
       "\u001b[2;36m                   \u001b[0m\u001b[2;36m \u001b[0m\u001b[34mINFO    \u001b[0m No custom league dict found. You can configure additional leagues in    \u001b]8;id=343700;file://c:\\Users\\femi\\AppData\\Local\\Programs\\Python\\Python312\\Lib\\site-packages\\soccerdata\\_config.py\u001b\\\u001b[2m_config.py\u001b[0m\u001b]8;;\u001b\\\u001b[2m:\u001b[0m\u001b]8;id=45155;file://c:\\Users\\femi\\AppData\\Local\\Programs\\Python\\Python312\\Lib\\site-packages\\soccerdata\\_config.py#165\u001b\\\u001b[2m165\u001b[0m\u001b]8;;\u001b\\\n",
       "\u001b[2;36m                    \u001b[0m         C:\\Users\\femi\\soccerdata\\config\\league_dict.json.                       \u001b[2m              \u001b[0m\n"
      ]
     },
     "metadata": {},
     "output_type": "display_data"
    },
    {
     "data": {
      "text/html": [
       "<pre style=\"white-space:pre;overflow-x:auto;line-height:normal;font-family:Menlo,'DejaVu Sans Mono',consolas,'Courier New',monospace\"><span style=\"color: #7fbfbf; text-decoration-color: #7fbfbf\">                    </span><span style=\"color: #000080; text-decoration-color: #000080\">INFO    </span> Saving cached data to C:\\Users\\femi\\soccerdata\\data\\FBref                <a href=\"file://c:\\Users\\femi\\AppData\\Local\\Programs\\Python\\Python312\\Lib\\site-packages\\soccerdata\\_common.py\" target=\"_blank\"><span style=\"color: #7f7f7f; text-decoration-color: #7f7f7f\">_common.py</span></a><span style=\"color: #7f7f7f; text-decoration-color: #7f7f7f\">:</span><a href=\"file://c:\\Users\\femi\\AppData\\Local\\Programs\\Python\\Python312\\Lib\\site-packages\\soccerdata\\_common.py#91\" target=\"_blank\"><span style=\"color: #7f7f7f; text-decoration-color: #7f7f7f\">91</span></a>\n",
       "</pre>\n"
      ],
      "text/plain": [
       "\u001b[2;36m                   \u001b[0m\u001b[2;36m \u001b[0m\u001b[34mINFO    \u001b[0m Saving cached data to C:\\Users\\femi\\soccerdata\\data\\FBref                \u001b]8;id=55512;file://c:\\Users\\femi\\AppData\\Local\\Programs\\Python\\Python312\\Lib\\site-packages\\soccerdata\\_common.py\u001b\\\u001b[2m_common.py\u001b[0m\u001b]8;;\u001b\\\u001b[2m:\u001b[0m\u001b]8;id=220081;file://c:\\Users\\femi\\AppData\\Local\\Programs\\Python\\Python312\\Lib\\site-packages\\soccerdata\\_common.py#91\u001b\\\u001b[2m91\u001b[0m\u001b]8;;\u001b\\\n"
      ]
     },
     "metadata": {},
     "output_type": "display_data"
    },
    {
     "data": {
      "text/html": [
       "<pre style=\"white-space:pre;overflow-x:auto;line-height:normal;font-family:Menlo,'DejaVu Sans Mono',consolas,'Courier New',monospace\"><span style=\"color: #7fbfbf; text-decoration-color: #7fbfbf\">                    </span><span style=\"color: #000080; text-decoration-color: #000080\">INFO    </span> No seasons provided. Will retrieve data for the last <span style=\"color: #008080; text-decoration-color: #008080; font-weight: bold\">5</span> seasons.         <a href=\"file://c:\\Users\\femi\\AppData\\Local\\Programs\\Python\\Python312\\Lib\\site-packages\\soccerdata\\_common.py\" target=\"_blank\"><span style=\"color: #7f7f7f; text-decoration-color: #7f7f7f\">_common.py</span></a><span style=\"color: #7f7f7f; text-decoration-color: #7f7f7f\">:</span><a href=\"file://c:\\Users\\femi\\AppData\\Local\\Programs\\Python\\Python312\\Lib\\site-packages\\soccerdata\\_common.py#290\" target=\"_blank\"><span style=\"color: #7f7f7f; text-decoration-color: #7f7f7f\">290</span></a>\n",
       "</pre>\n"
      ],
      "text/plain": [
       "\u001b[2;36m                   \u001b[0m\u001b[2;36m \u001b[0m\u001b[34mINFO    \u001b[0m No seasons provided. Will retrieve data for the last \u001b[1;36m5\u001b[0m seasons.         \u001b]8;id=512234;file://c:\\Users\\femi\\AppData\\Local\\Programs\\Python\\Python312\\Lib\\site-packages\\soccerdata\\_common.py\u001b\\\u001b[2m_common.py\u001b[0m\u001b]8;;\u001b\\\u001b[2m:\u001b[0m\u001b]8;id=454406;file://c:\\Users\\femi\\AppData\\Local\\Programs\\Python\\Python312\\Lib\\site-packages\\soccerdata\\_common.py#290\u001b\\\u001b[2m290\u001b[0m\u001b]8;;\u001b\\\n"
      ]
     },
     "metadata": {},
     "output_type": "display_data"
    }
   ],
   "source": [
    "import os\n",
    "import soccerdata as sd \n",
    "import pandas as pd\n",
    "\n",
    "#create scraper class instance \n",
    "#\n",
    "fbref = sd.FBref( leagues='Big 5 European Leagues Combined')\n",
    "\n",
    "\n",
    "player_stats = fbref.read_player_season_stats()\n",
    "\n"
   ]
  },
  {
   "cell_type": "code",
   "execution_count": 2,
   "id": "cd07de9b-f9ce-41c1-ad9c-dd155fe5d265",
   "metadata": {},
   "outputs": [],
   "source": [
    "import os\n",
    "\n",
    "directory = r'C:\\Users\\femi\\soccerdata\\data\\FBref'\n",
    "os.chdir(directory)\n"
   ]
  },
  {
   "cell_type": "code",
   "execution_count": 7,
   "id": "9b5919f1",
   "metadata": {},
   "outputs": [
    {
     "name": "stdout",
     "output_type": "stream",
     "text": [
      "['leagues.html', 'players_Big 5 European Leagues Combined_1718_defense.html', 'players_Big 5 European Leagues Combined_1718_gca.html', 'players_Big 5 European Leagues Combined_1718_keeper.html', 'players_Big 5 European Leagues Combined_1718_keeper_adv.html', 'players_Big 5 European Leagues Combined_1718_misc.html', 'players_Big 5 European Leagues Combined_1718_passing.html', 'players_Big 5 European Leagues Combined_1718_passing_types.html', 'players_Big 5 European Leagues Combined_1718_playing_time.html', 'players_Big 5 European Leagues Combined_1718_possession.html', 'players_Big 5 European Leagues Combined_1718_shooting.html', 'players_Big 5 European Leagues Combined_1718_standard.html', 'players_Big 5 European Leagues Combined_1819_defense.html', 'players_Big 5 European Leagues Combined_1819_gca.html', 'players_Big 5 European Leagues Combined_1819_keeper.html', 'players_Big 5 European Leagues Combined_1819_keeper_adv.html', 'players_Big 5 European Leagues Combined_1819_misc.html', 'players_Big 5 European Leagues Combined_1819_passing.html', 'players_Big 5 European Leagues Combined_1819_passing_types.html', 'players_Big 5 European Leagues Combined_1819_playing_time.html', 'players_Big 5 European Leagues Combined_1819_possession.html', 'players_Big 5 European Leagues Combined_1819_shooting.html', 'players_Big 5 European Leagues Combined_1819_standard.html', 'players_Big 5 European Leagues Combined_1920_defense.html', 'players_Big 5 European Leagues Combined_1920_gca.html', 'players_Big 5 European Leagues Combined_1920_keeper.html', 'players_Big 5 European Leagues Combined_1920_keeper_adv.html', 'players_Big 5 European Leagues Combined_1920_misc.html', 'players_Big 5 European Leagues Combined_1920_passing.html', 'players_Big 5 European Leagues Combined_1920_passing_types.html', 'players_Big 5 European Leagues Combined_1920_playing_time.html', 'players_Big 5 European Leagues Combined_1920_possession.html', 'players_Big 5 European Leagues Combined_1920_shooting.html', 'players_Big 5 European Leagues Combined_1920_standard.html', 'players_Big 5 European Leagues Combined_2021_defense.html', 'players_Big 5 European Leagues Combined_2021_gca.html', 'players_Big 5 European Leagues Combined_2021_keeper.html', 'players_Big 5 European Leagues Combined_2021_keeper_adv.html', 'players_Big 5 European Leagues Combined_2021_misc.html', 'players_Big 5 European Leagues Combined_2021_passing.html', 'players_Big 5 European Leagues Combined_2021_passing_types.html', 'players_Big 5 European Leagues Combined_2021_playing_time.html', 'players_Big 5 European Leagues Combined_2021_possession.html', 'players_Big 5 European Leagues Combined_2021_shooting.html', 'players_Big 5 European Leagues Combined_2021_standard.html', 'players_Big 5 European Leagues Combined_2122_defense.html', 'players_Big 5 European Leagues Combined_2122_gca.html', 'players_Big 5 European Leagues Combined_2122_keeper.html', 'players_Big 5 European Leagues Combined_2122_keeper_adv.html', 'players_Big 5 European Leagues Combined_2122_misc.html', 'players_Big 5 European Leagues Combined_2122_passing.html', 'players_Big 5 European Leagues Combined_2122_passing_types.html', 'players_Big 5 European Leagues Combined_2122_playing_time.html', 'players_Big 5 European Leagues Combined_2122_possession.html', 'players_Big 5 European Leagues Combined_2122_shooting.html', 'players_Big 5 European Leagues Combined_2122_standard.html', 'players_Big 5 European Leagues Combined_2223_defense.html', 'players_Big 5 European Leagues Combined_2223_gca.html', 'players_Big 5 European Leagues Combined_2223_keeper.html', 'players_Big 5 European Leagues Combined_2223_keeper_adv.html', 'players_Big 5 European Leagues Combined_2223_misc.html', 'players_Big 5 European Leagues Combined_2223_passing.html', 'players_Big 5 European Leagues Combined_2223_passing_types.html', 'players_Big 5 European Leagues Combined_2223_playing_time.html', 'players_Big 5 European Leagues Combined_2223_possession.html', 'players_Big 5 European Leagues Combined_2223_shooting.html', 'players_Big 5 European Leagues Combined_2223_standard.html', 'players_Big 5 European Leagues Combined_2324_defense.html', 'players_Big 5 European Leagues Combined_2324_gca.html', 'players_Big 5 European Leagues Combined_2324_keeper.html', 'players_Big 5 European Leagues Combined_2324_keeper_adv.html', 'players_Big 5 European Leagues Combined_2324_misc.html', 'players_Big 5 European Leagues Combined_2324_passing.html', 'players_Big 5 European Leagues Combined_2324_passing_types.html', 'players_Big 5 European Leagues Combined_2324_playing_time.html', 'players_Big 5 European Leagues Combined_2324_possession.html', 'players_Big 5 European Leagues Combined_2324_shooting.html', 'players_Big 5 European Leagues Combined_2324_standard.html', 'seasons_Big 5 European Leagues Combined.html']\n"
     ]
    }
   ],
   "source": [
    "import glob\n",
    "import re\n",
    "html_files = glob.glob('*.html')\n",
    "print(html_files)\n",
    "\n"
   ]
  },
  {
   "cell_type": "code",
   "execution_count": null,
   "id": "627b24c1",
   "metadata": {},
   "outputs": [],
   "source": [
    "df_std_stats, df_shooting, df_passing, df_passing_types, df_gca, df_defense, df_possession = pd.read_html('./players_Big 5 European Leagues Combined_1718_standard.html'),pd.read_html('')"
   ]
  },
  {
   "cell_type": "code",
   "execution_count": 8,
   "id": "1b52a87e",
   "metadata": {},
   "outputs": [],
   "source": [
    "standard  = re.compile(r'standard\\.html$')\n",
    "shooting   = re.compile(r'shooting\\.html$')\n",
    "passing  =  re.compile(r'passing\\.html$')\n",
    "passing_types =  re.compile(r'passing_types\\.html$')\n",
    "gca =  re.compile(r'gca\\.html$')\n",
    "defense =  re.compile(r'defense\\.html$')\n",
    "possession =  re.compile(r'possession\\.html$')"
   ]
  },
  {
   "cell_type": "code",
   "execution_count": 30,
   "id": "1a4388d4",
   "metadata": {},
   "outputs": [
    {
     "name": "stdout",
     "output_type": "stream",
     "text": [
      "dict_keys(['1718', '1819', '1920', '2021', '2122', '2223', '2324'])\n"
     ]
    }
   ],
   "source": [
    "base ={}\n",
    "for filing in html_files:\n",
    "    if standard.search(filing):\n",
    "        name = filing[-18:-14]\n",
    "        base[f'{name}'] = pd.read_html(filing)\n",
    "\n",
    "\n",
    "        \n",
    "\n",
    "# Iterate over the HTML files\n",
    "for filing in html_files:\n",
    "    if shooting.search(filing):\n",
    "        year = filing[-18:-14]\n",
    "        base[year].append(pd.read_html(filing))\n",
    "    elif passing.search(filing):\n",
    "        year = filing[-17:-13]\n",
    "        base[year].append(pd.read_html(filing))\n",
    "    elif passing_types.search(filing):\n",
    "        year = filing[-23:-19]\n",
    "        base[year].append(pd.read_html(filing))\n",
    "    elif gca.search(filing):\n",
    "        year = filing[-13:-9]\n",
    "        base[year].append(pd.read_html(filing))\n",
    "    elif defense.search(filing):\n",
    "        year = filing[-17:-13]\n",
    "        base[year].append(pd.read_html(filing))\n",
    "    elif possession.search(filing):\n",
    "        year = filing[-20:-16]\n",
    "        base[year].append(pd.read_html(filing))\n",
    "\n",
    "\n",
    "\n",
    "print(base.keys())\n"
   ]
  },
  {
   "cell_type": "code",
   "execution_count": 32,
   "id": "c777777d",
   "metadata": {},
   "outputs": [
    {
     "data": {
      "text/plain": [
       "7"
      ]
     },
     "execution_count": 32,
     "metadata": {},
     "output_type": "execute_result"
    }
   ],
   "source": [
    "len(base['1718'])"
   ]
  },
  {
   "cell_type": "code",
   "execution_count": 27,
   "id": "97f1c181",
   "metadata": {},
   "outputs": [
    {
     "data": {
      "text/plain": [
       "pandas.core.frame.DataFrame"
      ]
     },
     "execution_count": 27,
     "metadata": {},
     "output_type": "execute_result"
    }
   ],
   "source": [
    "type(base['1718'][0])"
   ]
  }
 ],
 "metadata": {
  "kernelspec": {
   "display_name": "Python 3 (ipykernel)",
   "language": "python",
   "name": "python3"
  },
  "language_info": {
   "codemirror_mode": {
    "name": "ipython",
    "version": 3
   },
   "file_extension": ".py",
   "mimetype": "text/x-python",
   "name": "python",
   "nbconvert_exporter": "python",
   "pygments_lexer": "ipython3",
   "version": "3.12.0"
  }
 },
 "nbformat": 4,
 "nbformat_minor": 5
}
